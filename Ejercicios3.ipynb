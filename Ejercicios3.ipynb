{
 "cells": [
  {
   "cell_type": "markdown",
   "metadata": {},
   "source": [
    "### Ejercicio 1"
   ]
  },
  {
   "cell_type": "code",
   "execution_count": 1,
   "metadata": {},
   "outputs": [
    {
     "name": "stdout",
     "output_type": "stream",
     "text": [
      "Contenido de la lista: ['manzana', 'ajo', 'ppas']\n",
      "Contenido de la lista invertida: ['ppas', 'ajo', 'manzana']\n"
     ]
    }
   ],
   "source": [
    "num_elementos = int(input(\"¿Cuántos elementos deseas ingresar en la lista? \"))\n",
    "\n",
    "lista = []\n",
    "for i in range(num_elementos):\n",
    "    elemento = input(f\"Ingrese el elemento {i + 1}: \")\n",
    "    lista.append(elemento)\n",
    "\n",
    "print(\"Contenido de la lista:\", lista)\n",
    "\n",
    "lista_invertida = lista[::-1]\n",
    "print(\"Contenido de la lista invertida:\", lista_invertida)"
   ]
  },
  {
   "cell_type": "markdown",
   "metadata": {},
   "source": [
    "### Ejercicio 2"
   ]
  },
  {
   "cell_type": "code",
   "execution_count": null,
   "metadata": {},
   "outputs": [
    {
     "name": "stdout",
     "output_type": "stream",
     "text": [
      "Lista original: [1, 2, 3, 4, 5, 3, 6, 3, 7, 8]\n",
      "Lista final después de borrar el número: [1, 2, 3, 4, 5, 3, 6, 3, 7]\n"
     ]
    }
   ],
   "source": [
    "numeros = [1, 2, 3, 4, 5, 3, 6, 3, 7, 8, 2, 4, 5]\n",
    "\n",
    "print(\"Lista original:\", numeros)\n",
    "\n",
    "numero_a_borrar = int(input(\"Ingrese un número a borrar de la lista: \"))\n",
    "numeros = [num for num in numeros if num != numero_a_borrar]\n",
    "\n",
    "print(\"Lista final después de borrar el número:\", numeros)"
   ]
  },
  {
   "cell_type": "markdown",
   "metadata": {},
   "source": [
    "### Ejercicio 3"
   ]
  },
  {
   "cell_type": "code",
   "execution_count": 3,
   "metadata": {},
   "outputs": [
    {
     "name": "stdout",
     "output_type": "stream",
     "text": [
      "Letras que se repiten en la misma posición: ['e']\n"
     ]
    }
   ],
   "source": [
    "frase1 = input(\"Ingrese la primera frase: \")\n",
    "frase2 = input(\"Ingrese la segunda frase: \")\n",
    "\n",
    "letras_repetidas = []\n",
    "longitud_minima = min(len(frase1), len(frase2))\n",
    "\n",
    "for i in range(longitud_minima):\n",
    "    if frase1[i] == frase2[i]:\n",
    "        letras_repetidas.append(frase1[i])\n",
    "\n",
    "print(\"Letras que se repiten en la misma posición:\", letras_repetidas)"
   ]
  }
 ],
 "metadata": {
  "kernelspec": {
   "display_name": "Python 3",
   "language": "python",
   "name": "python3"
  },
  "language_info": {
   "codemirror_mode": {
    "name": "ipython",
    "version": 3
   },
   "file_extension": ".py",
   "mimetype": "text/x-python",
   "name": "python",
   "nbconvert_exporter": "python",
   "pygments_lexer": "ipython3",
   "version": "3.12.4"
  }
 },
 "nbformat": 4,
 "nbformat_minor": 2
}
