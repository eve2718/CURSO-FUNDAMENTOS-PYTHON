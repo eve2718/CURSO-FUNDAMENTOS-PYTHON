{
  "nbformat": 4,
  "nbformat_minor": 0,
  "metadata": {
    "colab": {
      "provenance": []
    },
    "kernelspec": {
      "name": "python3",
      "display_name": "Python 3"
    },
    "language_info": {
      "name": "python"
    }
  },
  "cells": [
    {
      "cell_type": "code",
      "source": [
        "# 1. Calcular el índice de cosecha\n",
        "def indice_cosecha(cosecha_recolectada, cosecha_producida):\n",
        "    if cosecha_producida == 0:\n",
        "        return 0\n",
        "    return (cosecha_recolectada / cosecha_producida) * 100\n",
        "\n",
        "# Proceso de uso para el índice\n",
        "cosecha_recolectada = float(input(\"Ingrese la cantidad de frutos recolectados: \"))\n",
        "cosecha_producida = float(input(\"Ingrese la cantidad de frutos producidos: \"))\n",
        "indice = indice_cosecha(cosecha_recolectada, cosecha_producida)\n",
        "print(f\"Índice de cosecha: {indice:.2f}%\")"
      ],
      "metadata": {
        "id": "iGybwyINnDib"
      },
      "execution_count": null,
      "outputs": []
    },
    {
      "cell_type": "code",
      "source": [
        "# 2. La P de Python\n",
        "print (\"+\" + 6 * \"-\" + \"+\")\n",
        "print ((\"|\" + \" \" * 6 + \"|\\n\") * 5, end=\"\")\n",
        "print (\"+\" + 6 * \"-\" + \"+\")\n",
        "print ((\"|\" + \" \" * 6 + \"\\n\") * 5, end=\"\")\n"
      ],
      "metadata": {
        "id": "9qVTU-1LnQ64"
      },
      "execution_count": null,
      "outputs": []
    },
    {
      "cell_type": "code",
      "source": [
        "# 3. Problema del promedio\n",
        "#Definir para el calculo final\n",
        "def calificacion_final(calificaciones, examen_final, trabajo_final):\n",
        "    promedio_parciales = sum(calificaciones) / len(calificaciones)\n",
        "    return (promedio_parciales * 0.55) + (examen_final * 0.20) + (trabajo_final * 0.25)\n",
        "\n",
        "#Solicitar las calificaciones\n",
        "calificaciones = []\n",
        "for i in range(3):\n",
        "    calificacion = float(input(f\"Ingrese la calificación parcial {i + 1}: \"))\n",
        "    calificaciones.append(calificacion)\n",
        "\n",
        "#Solicitar la calificacion del examen final\n",
        "examen_final = float(input(\"Ingrese la calificación del examen final: \"))\n",
        "\n",
        "#Solicitar la calificacion del trabajo final\n",
        "trabajo_final = float(input(\"Ingrese la calificación del trabajo final: \"))\n",
        "\n",
        "#Calculo y calificacion Final\n",
        "calificacion = calificacion_final(calificaciones, examen_final, trabajo_final)\n",
        "print(f\"Calificación final: {calificacion:.2f}\")\n"
      ],
      "metadata": {
        "id": "bkwrZEKmnVz5"
      },
      "execution_count": null,
      "outputs": []
    },
    {
      "cell_type": "code",
      "source": [
        " 4.Problema de la frase y el numero de palabras\n",
        "frase = input(\"Ingrese una frase: \")\n",
        "\n",
        "numero_palabras = len(frase.split())\n",
        "\n",
        "print(f\"Número de palabras en la frase: {numero_palabras}\")"
      ],
      "metadata": {
        "id": "gzKR2E_6na4j"
      },
      "execution_count": null,
      "outputs": []
    },
    {
      "cell_type": "code",
      "source": [
        "# 5.Problema de la frase invertida y en mayus, se pide por un input la frase al usuario\n",
        "frase = input(\"Ingrese una frase: \")\n",
        "\n",
        "frase_transformada = frase.upper()[::-1]\n",
        "\n",
        "#Mostrar el resultado\n",
        "print(f\"Frase en mayúsculas e invertida: {frase_transformada}\")"
      ],
      "metadata": {
        "id": "KmO3LMTJnhf3"
      },
      "execution_count": null,
      "outputs": []
    }
  ]
}