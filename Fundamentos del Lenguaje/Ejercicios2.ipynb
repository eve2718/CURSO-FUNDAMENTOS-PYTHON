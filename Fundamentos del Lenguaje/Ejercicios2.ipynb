{
 "cells": [
  {
   "cell_type": "markdown",
   "metadata": {},
   "source": [
    "### Ejercicio 1"
   ]
  },
  {
   "cell_type": "code",
   "execution_count": null,
   "metadata": {},
   "outputs": [
    {
     "name": "stdout",
     "output_type": "stream",
     "text": [
      "El motor ya está apagado.\n"
     ]
    }
   ],
   "source": [
    "motor_encendido = True\n",
    "\n",
    "# Función que simula el control de la temperatura y el motor\n",
    "def controlar_motor(temperatura):\n",
    "    global motor_encendido\n",
    "    if temperatura > 80:\n",
    "        if motor_encendido:\n",
    "            motor_encendido = False\n",
    "            print(\"Temperatura demasiado alta. El motor se apaga.\")\n",
    "        else:\n",
    "            print(\"El motor ya está apagado.\")\n",
    "    elif temperatura <= 80 and not motor_encendido:\n",
    "        motor_encendido = True\n",
    "        print(\"Temperatura dentro del rango. El motor se enciende.\")\n",
    "    else:\n",
    "        print(\"El motor ya está encendido y la temperatura es segura.\")\n",
    "\n",
    "# prueba de ejecucion\n",
    "temperaturas = [85]  # Insertar una temperatura para probar\n",
    "for temp in temperaturas:\n",
    "    controlar_motor(temp)"
   ]
  },
  {
   "cell_type": "markdown",
   "metadata": {},
   "source": [
    "### Ejercicio 2"
   ]
  },
  {
   "cell_type": "code",
   "execution_count": 11,
   "metadata": {},
   "outputs": [
    {
     "name": "stdout",
     "output_type": "stream",
     "text": [
      "El descuento aplicado es: 400.00\n",
      "El precio final de la matrícula es: 1600.00\n"
     ]
    }
   ],
   "source": [
    "def calcular_precio_matricula(valor_matricula, estrato, edad):\n",
    "    if estrato == 1:\n",
    "        if edad < 18:\n",
    "            descuento = valor_matricula * 0.20  # 20% de descuento\n",
    "        else:\n",
    "            descuento = valor_matricula * 0.15  # 15% de descuento\n",
    "    elif estrato == 2:\n",
    "        if edad < 18:\n",
    "            descuento = valor_matricula * 0.10  # 10% de descuento\n",
    "        else:\n",
    "            descuento = valor_matricula * 0.05  # 5% de descuento\n",
    "    else:\n",
    "        descuento = 0  # Si el estrato no es 1 ni 2, no hay descuento\n",
    "\n",
    "    precio_final = valor_matricula - descuento\n",
    "    return precio_final, descuento\n",
    "\n",
    "valor_matricula = float(input(\"Ingrese el valor de la matrícula: \"))\n",
    "estrato = int(input(\"Ingrese el estrato (1 o 2): \"))\n",
    "edad = int(input(\"Ingrese la edad del estudiante: \"))\n",
    "\n",
    "precio_final, descuento = calcular_precio_matricula(valor_matricula, estrato, edad)\n",
    "\n",
    "print(f\"El descuento aplicado es: {descuento:.2f}\")\n",
    "print(f\"El precio final de la matrícula es: {precio_final:.2f}\")\n"
   ]
  },
  {
   "cell_type": "markdown",
   "metadata": {},
   "source": [
    "### Ejercicio 3"
   ]
  },
  {
   "cell_type": "code",
   "execution_count": null,
   "metadata": {},
   "outputs": [
    {
     "name": "stdout",
     "output_type": "stream",
     "text": [
      "Pieza rechazada. Alerta enviada al operador.\n"
     ]
    }
   ],
   "source": [
    "def inspeccionar_pieza(binaria):\n",
    "    if '0' in binaria:\n",
    "        print(\"Pieza rechazada. Alerta enviada al operador.\")\n",
    "    else:\n",
    "        print(\"Pieza aprobada. Continuar con la producción.\")\n",
    "\n",
    "# Solicitar la entrada del usuario (una secuencia binaria de 1s y 0s)\n",
    "entrada = input(\"Ingrese la secuencia binaria de la pieza: \")\n",
    "\n",
    "# Llamamos a la función para inspeccionar la pieza\n",
    "inspeccionar_pieza(entrada)\n"
   ]
  }
 ],
 "metadata": {
  "kernelspec": {
   "display_name": "Python 3",
   "language": "python",
   "name": "python3"
  },
  "language_info": {
   "codemirror_mode": {
    "name": "ipython",
    "version": 3
   },
   "file_extension": ".py",
   "mimetype": "text/x-python",
   "name": "python",
   "nbconvert_exporter": "python",
   "pygments_lexer": "ipython3",
   "version": "3.12.4"
  }
 },
 "nbformat": 4,
 "nbformat_minor": 2
}
