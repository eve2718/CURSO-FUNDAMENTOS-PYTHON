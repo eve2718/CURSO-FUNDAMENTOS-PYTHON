{
  "cells": [
    {
      "cell_type": "code",
      "execution_count": 2,
      "metadata": {
        "colab": {
          "base_uri": "https://localhost:8080/"
        },
        "id": "v0x71k-4QOph",
        "outputId": "7040da44-d712-4dc5-baab-12f6cb368e5c"
      },
      "outputs": [
        {
          "name": "stdout",
          "output_type": "stream",
          "text": [
            "Ingrese la cantidad de frutos recolectados: 20\n",
            "Ingrese la cantidad de frutos producidos: 10\n",
            "Índice de cosecha: 200.00%\n",
            "+------+\n",
            "|      |\n",
            "|      |\n",
            "|      |\n",
            "|      |\n",
            "|      |\n",
            "+------+\n",
            "|      \n",
            "|      \n",
            "|      \n",
            "|      \n",
            "|      \n",
            "Ingrese la calificación parcial 1: 10\n",
            "Ingrese la calificación parcial 2: 10\n",
            "Ingrese la calificación parcial 3: 20\n",
            "Ingrese la calificación del examen final: 50\n",
            "Ingrese la calificación del trabajo final: 50\n",
            "Calificación final: 29.83\n",
            "Ingrese una frase: hola\n",
            "Número de palabras en la frase: 1\n",
            "Ingrese una frase: hola\n",
            "Frase en mayúsculas e invertida: ALOH\n"
          ]
        }
      ],
      "source": [
        "# 1. Calcular el índice de cosecha\n",
        "def indice_cosecha(cosecha_recolectada, cosecha_producida):\n",
        "    if cosecha_producida == 0:\n",
        "        return 0\n",
        "    return (cosecha_recolectada / cosecha_producida) * 100\n",
        "\n",
        "# Proceso de uso para el índice\n",
        "cosecha_recolectada = float(input(\"Ingrese la cantidad de frutos recolectados: \"))\n",
        "cosecha_producida = float(input(\"Ingrese la cantidad de frutos producidos: \"))\n",
        "indice = indice_cosecha(cosecha_recolectada, cosecha_producida)\n",
        "print(f\"Índice de cosecha: {indice:.2f}%\")\n",
        "\n",
        "# 2. La P de Python\n",
        "print (\"+\" + 6 * \"-\" + \"+\")\n",
        "print ((\"|\" + \" \" * 6 + \"|\\n\") * 5, end=\"\")\n",
        "print (\"+\" + 6 * \"-\" + \"+\")\n",
        "print ((\"|\" + \" \" * 6 + \"\\n\") * 5, end=\"\")\n",
        "\n",
        "# 3. Problema del promedio\n",
        "#Definir para el calculo final\n",
        "def calificacion_final(calificaciones, examen_final, trabajo_final):\n",
        "    promedio_parciales = sum(calificaciones) / len(calificaciones)\n",
        "    return (promedio_parciales * 0.55) + (examen_final * 0.20) + (trabajo_final * 0.25)\n",
        "\n",
        "#Solicitar las calificaciones\n",
        "calificaciones = []\n",
        "for i in range(3):\n",
        "    calificacion = float(input(f\"Ingrese la calificación parcial {i + 1}: \"))\n",
        "    calificaciones.append(calificacion)\n",
        "\n",
        "#Solicitar la calificacion del examen final\n",
        "examen_final = float(input(\"Ingrese la calificación del examen final: \"))\n",
        "\n",
        "#Solicitar la calificacion del trabajo final\n",
        "trabajo_final = float(input(\"Ingrese la calificación del trabajo final: \"))\n",
        "\n",
        "#Calculo y calificacion Final\n",
        "calificacion = calificacion_final(calificaciones, examen_final, trabajo_final)\n",
        "print(f\"Calificación final: {calificacion:.2f}\")\n",
        "\n",
        "# 4.Problema de la frase y el numero de palabras\n",
        "frase = input(\"Ingrese una frase: \")\n",
        "\n",
        "numero_palabras = len(frase.split())\n",
        "\n",
        "print(f\"Número de palabras en la frase: {numero_palabras}\")\n",
        "\n",
        "# 5.Problema de la frase invertida y en mayus, se pide por un input la frase al usuario\n",
        "frase = input(\"Ingrese una frase: \")\n",
        "\n",
        "frase_transformada = frase.upper()[::-1]\n",
        "\n",
        "#Mostrar el resultado\n",
        "print(f\"Frase en mayúsculas e invertida: {frase_transformada}\")"
      ]
    }
  ],
  "metadata": {
    "colab": {
      "provenance": []
    },
    "kernelspec": {
      "display_name": "Python 3",
      "name": "python3"
    },
    "language_info": {
      "name": "python"
    }
  },
  "nbformat": 4,
  "nbformat_minor": 0
}
