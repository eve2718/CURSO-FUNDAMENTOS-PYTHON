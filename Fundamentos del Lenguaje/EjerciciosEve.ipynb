{
 "cells": [
  {
   "cell_type": "code",
   "execution_count": null,
   "metadata": {},
   "outputs": [],
   "source": [
    "motorEncendido = True\n",
    "\n",
    "# Función que simula el control de la temperatura y el motor\n",
    "def controlDelMotor(temperatura):\n",
    "    global motorEncendido\n",
    "    if temperatura > 80:\n",
    "        if motorEncendido:\n",
    "            motorEncendido = False\n",
    "            print(\"Temperatura demasiado alta, se apago el motor.\")\n",
    "        else:\n",
    "            print(\"El motor ya está apagado.\")\n",
    "    elif temperatura <= 80 and not motorEncendido:\n",
    "        motorEncendido = True\n",
    "        print(\"Temperatura dentro del rango, vuelve a encenderse el motor.\")\n",
    "    else:\n",
    "        print(\"El motor ya está encendido y la temperatura es segura.\")\n",
    "\n",
    "# prueba\n",
    "temperaturas = [85]  # Inserte temperatura\n",
    "for temp in temperaturas:\n",
    "    controlDelMotor(temp)"
   ]
  },
  {
   "cell_type": "code",
   "execution_count": null,
   "metadata": {},
   "outputs": [],
   "source": [
    "def calcularDescuentoMatricula(valor_matri, estrato, edad):\n",
    "    if estrato == 1:\n",
    "        if edad < 18:\n",
    "            descuento = valor_matri * 0.20  # 20% de descuento\n",
    "        else:\n",
    "            descuento = valor_matri * 0.15  # 15% de descuento\n",
    "    elif estrato == 2:\n",
    "        if edad < 18:\n",
    "            descuento = valor_matri * 0.10  # 10% de descuento\n",
    "        else:\n",
    "            descuento = valor_matri * 0.05  # 5% de descuento\n",
    "    else:\n",
    "        descuento = 0  # Si el estrato no es 1 ni 2, no hay descuento\n",
    "\n",
    "    Pfinal = valor_matri - descuento\n",
    "    return Pfinal, descuento\n",
    "\n",
    "valor_matri = float(input(\"Ingrese el valor de matrícula: \"))\n",
    "estrato = int(input(\"Ingrese el estrato (1 o 2): \"))\n",
    "edad = int(input(\"Ingrese la edad del estudiante: \"))\n",
    "\n",
    "Pfinal, descuento = calcularDescuentoMatricula(valor_matri, estrato, edad)\n",
    "\n",
    "print(f\"El descuento aplicado es: {descuento:.2f}\")\n",
    "print(f\"El precio final de la matrícula es: {Pfinal:.2f}\")\n"
   ]
  },
  {
   "cell_type": "code",
   "execution_count": null,
   "metadata": {},
   "outputs": [],
   "source": [
    "def inspeccionarPieza(binaria):\n",
    "    if '0' in binaria:\n",
    "        print(\"Pieza rechazada.\")\n",
    "    else:\n",
    "        print(\"Pieza aprobada. Continuar con la producción.\")\n",
    "\n",
    "# Solicitar la entrada del usuario (una secuencia binaria)\n",
    "entrada = input(\"Ingrese la secuencia binaria de la pieza: \")\n",
    "\n",
    "# Llamamos a la función para inspeccionar la pieza\n",
    "inspeccionarPieza(entrada)\n"
   ]
  }
 ],
 "metadata": {
  "language_info": {
   "name": "python"
  }
 },
 "nbformat": 4,
 "nbformat_minor": 2
}
